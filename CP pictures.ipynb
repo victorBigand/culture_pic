{
 "cells": [
  {
   "cell_type": "markdown",
   "metadata": {},
   "source": [
    "# Scraping pictures for Culture Pic"
   ]
  },
  {
   "cell_type": "code",
   "execution_count": 1,
   "metadata": {},
   "outputs": [],
   "source": [
    "import os\n",
    "import urllib.request\n",
    "import time\n",
    "from selenium import webdriver\n",
    "from selenium.webdriver.common.keys import Keys\n",
    "import matplotlib.pyplot as plt\n",
    "from tqdm import tqdm_notebook"
   ]
  },
  {
   "cell_type": "markdown",
   "metadata": {},
   "source": [
    "First, we open a text file with a monument's name on each line"
   ]
  },
  {
   "cell_type": "code",
   "execution_count": 21,
   "metadata": {},
   "outputs": [],
   "source": [
    "os.chdir('..')"
   ]
  },
  {
   "cell_type": "code",
   "execution_count": 22,
   "metadata": {},
   "outputs": [],
   "source": [
    "list_monument = open(\"list.txt\").read().splitlines()"
   ]
  },
  {
   "cell_type": "code",
   "execution_count": 23,
   "metadata": {},
   "outputs": [],
   "source": [
    "browser = webdriver.Chrome('C:\\\\Users\\\\Victor\\\\chromedriver_win32\\\\chromedriver.exe')"
   ]
  },
  {
   "cell_type": "markdown",
   "metadata": {},
   "source": [
    "## Functions"
   ]
  },
  {
   "cell_type": "markdown",
   "metadata": {},
   "source": [
    "Function to clean the urls"
   ]
  },
  {
   "cell_type": "code",
   "execution_count": 24,
   "metadata": {},
   "outputs": [],
   "source": [
    "def clean_urls(images):\n",
    "    url = []\n",
    "    for i, img in enumerate(images):\n",
    "        url.append(img.get_attribute('src'))\n",
    "    clean_url = []\n",
    "    for el in url:\n",
    "        if(el!=None):\n",
    "            clean_url.append(el)\n",
    "    return (clean_url)"
   ]
  },
  {
   "cell_type": "markdown",
   "metadata": {},
   "source": [
    "Function to download the data into the right folder <br> \n",
    "=> name of the form <i>monument_i.png</i>"
   ]
  },
  {
   "cell_type": "code",
   "execution_count": 25,
   "metadata": {},
   "outputs": [],
   "source": [
    "def save_pictures(monument_name, clean_url):\n",
    "    if not os.path.exists(monument_name):\n",
    "        os.makedirs(monument_name)\n",
    "    os.chdir(monument_name)\n",
    "    len_dir = len(os.listdir())\n",
    "    # until -4 only for google images\n",
    "    for i, el in enumerate(clean_url[:-4]):\n",
    "        index = i + len_dir\n",
    "        urllib.request.urlretrieve(el, monument_name+\"_\"+str(index)+\".png\")\n",
    "    os.chdir('..')"
   ]
  },
  {
   "cell_type": "markdown",
   "metadata": {},
   "source": [
    "## Google Image\n",
    "Get the data"
   ]
  },
  {
   "cell_type": "code",
   "execution_count": null,
   "metadata": {},
   "outputs": [
    {
     "data": {
      "application/vnd.jupyter.widget-view+json": {
       "model_id": "569b373950cb451a814d32083e1032bf",
       "version_major": 2,
       "version_minor": 0
      },
      "text/plain": [
       "HBox(children=(IntProgress(value=0, max=67), HTML(value='')))"
      ]
     },
     "metadata": {},
     "output_type": "display_data"
    }
   ],
   "source": [
    "os.chdir('pictures')\n",
    "for monument in tqdm_notebook(list_monument):\n",
    "    \n",
    "    browser.get('https://images.google.com/')\n",
    "    search = browser.find_element_by_name('q')\n",
    "    search.send_keys(monument)\n",
    "    time.sleep(1)\n",
    "    search.send_keys(Keys.ENTER)\n",
    "    time.sleep(1)\n",
    "    \n",
    "    browser.execute_script(\"window.scrollTo(0, 200);\")\n",
    "    time.sleep(2)\n",
    "    \n",
    "    search = browser.find_element_by_id('search')\n",
    "    images = search.find_elements_by_tag_name('img')\n",
    "    \n",
    "    clean_url = clean_urls(images)\n",
    "    save_pictures(monument, clean_url)\n",
    "browser.close()\n",
    "os.chdir('..')"
   ]
  },
  {
   "cell_type": "markdown",
   "metadata": {},
   "source": [
    "## Shutterstock"
   ]
  },
  {
   "cell_type": "code",
   "execution_count": 152,
   "metadata": {},
   "outputs": [],
   "source": [
    "browser.get(url_monument)\n",
    "search = browser.find_element_by_css_selector('div.body-content')\n",
    "images = search.find_elements_by_tag_name('img')\n",
    "clean_url = clean_urls(images)\n",
    "browser.close()\n",
    "save_pictures(monument_name, clean_url)"
   ]
  },
  {
   "cell_type": "markdown",
   "metadata": {},
   "source": [
    "## Rename pictures in a folder\n",
    "The goal is to get continuous number after having deleted by hand some pictures"
   ]
  },
  {
   "cell_type": "code",
   "execution_count": 11,
   "metadata": {},
   "outputs": [],
   "source": [
    "monuments = os.listdir()\n",
    "\n",
    "for monument in monuments:\n",
    "    os.chdir(monument)\n",
    "    for i, img in enumerate(sorted(os.listdir(), key=lambda x: int(x.split('_')[-1].split('.')[0]))):\n",
    "        #in case there is an invisible space\n",
    "        if(monument[-1]==' '):\n",
    "            os.rename(img, monument[:-2]+\"_\"+str(i)+\".png\")\n",
    "        else:\n",
    "            os.rename(img, monument+\"_\"+str(i)+\".png\")\n",
    "    os.chdir('..')"
   ]
  },
  {
   "cell_type": "code",
   "execution_count": null,
   "metadata": {},
   "outputs": [],
   "source": []
  }
 ],
 "metadata": {
  "kernelspec": {
   "display_name": "Python 3",
   "language": "python",
   "name": "python3"
  },
  "language_info": {
   "codemirror_mode": {
    "name": "ipython",
    "version": 3
   },
   "file_extension": ".py",
   "mimetype": "text/x-python",
   "name": "python",
   "nbconvert_exporter": "python",
   "pygments_lexer": "ipython3",
   "version": "3.7.0"
  }
 },
 "nbformat": 4,
 "nbformat_minor": 2
}
