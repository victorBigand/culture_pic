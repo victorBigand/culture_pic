{
 "cells": [
  {
   "cell_type": "code",
   "execution_count": 84,
   "metadata": {},
   "outputs": [],
   "source": [
    "import os\n",
    "import urllib.request\n",
    "import time\n",
    "from selenium import webdriver\n",
    "import matplotlib.pyplot as plt"
   ]
  },
  {
   "cell_type": "code",
   "execution_count": 107,
   "metadata": {},
   "outputs": [],
   "source": [
    "monument_name = \"notre_dame\""
   ]
  },
  {
   "cell_type": "code",
   "execution_count": 93,
   "metadata": {},
   "outputs": [],
   "source": [
    "browser = webdriver.Chrome('C:\\\\Users\\\\Victor\\\\chromedriver_win32\\\\chromedriver.exe')"
   ]
  },
  {
   "cell_type": "code",
   "execution_count": 111,
   "metadata": {},
   "outputs": [],
   "source": [
    "url_tour_eiffel = 'https://www.google.com/search?tbm=isch&source=hp&biw=1280&bih=648&ei=xrQ5XKOpDYjBlwS_qJbYDA&q=tour+eiffel&oq=tour+eiffel&gs_l=img.3..0l10.1867.3390..5670...0.0..0.127.770.9j2......1....1..gws-wiz-img.....0.sdXxxVOzca8'\n",
    "url_notre_dame = 'https://www.google.com/search?biw=860&bih=648&tbm=isch&sa=1&ei=17Q5XJ-jItuAur4PyNiFyAE&q=noter+dame+de+paris&oq=noter+dame+de&gs_l=img.3.0.0j0i30j0i8i30j0i24l7.3764866.3768347..3769269...0.0..1.116.611.7j1......1....1..gws-wiz-img.......0i67.oNG2NGuP8ao'\n",
    "\n",
    "url_monument = url_notre_dame"
   ]
  },
  {
   "cell_type": "code",
   "execution_count": 112,
   "metadata": {},
   "outputs": [
    {
     "data": {
      "text/plain": [
       "'https://www.google.com/search?biw=860&bih=648&tbm=isch&sa=1&ei=17Q5XJ-jItuAur4PyNiFyAE&q=noter+dame+de+paris&oq=noter+dame+de&gs_l=img.3.0.0j0i30j0i8i30j0i24l7.3764866.3768347..3769269...0.0..1.116.611.7j1......1....1..gws-wiz-img.......0i67.oNG2NGuP8ao'"
      ]
     },
     "execution_count": 112,
     "metadata": {},
     "output_type": "execute_result"
    }
   ],
   "source": [
    "url_monument"
   ]
  },
  {
   "cell_type": "code",
   "execution_count": 113,
   "metadata": {},
   "outputs": [],
   "source": [
    "browser.get(url_monument)\n",
    "\n",
    "#scrolling for 2 pages\n",
    "for i in range(2):\n",
    "    time.sleep(1)\n",
    "    browser.execute_script(\"window.scrollTo(0, document.body.scrollHeight);\")"
   ]
  },
  {
   "cell_type": "code",
   "execution_count": 114,
   "metadata": {},
   "outputs": [],
   "source": [
    "search = browser.find_element_by_id('search')\n",
    "images = search.find_elements_by_tag_name('img')"
   ]
  },
  {
   "cell_type": "code",
   "execution_count": 115,
   "metadata": {},
   "outputs": [],
   "source": [
    "url = []\n",
    "for i, img in enumerate(images):\n",
    "    url.append(img.get_attribute('src'))"
   ]
  },
  {
   "cell_type": "code",
   "execution_count": 116,
   "metadata": {},
   "outputs": [],
   "source": [
    "clean_url = []\n",
    "for el in url:\n",
    "    if(el!=None):\n",
    "        clean_url.append(el)"
   ]
  },
  {
   "cell_type": "code",
   "execution_count": 118,
   "metadata": {},
   "outputs": [],
   "source": [
    "if not os.path.exists(monument_name):\n",
    "    os.makedirs(monument_name)\n",
    "\n",
    "for i, el in enumerate(clean_url):\n",
    "    urllib.request.urlretrieve(el, monument_name+\"\\\\\"+monument_name+str(i)+\".png\")"
   ]
  },
  {
   "cell_type": "code",
   "execution_count": null,
   "metadata": {},
   "outputs": [],
   "source": []
  }
 ],
 "metadata": {
  "kernelspec": {
   "display_name": "Python 3",
   "language": "python",
   "name": "python3"
  },
  "language_info": {
   "codemirror_mode": {
    "name": "ipython",
    "version": 3
   },
   "file_extension": ".py",
   "mimetype": "text/x-python",
   "name": "python",
   "nbconvert_exporter": "python",
   "pygments_lexer": "ipython3",
   "version": "3.7.0"
  }
 },
 "nbformat": 4,
 "nbformat_minor": 2
}
