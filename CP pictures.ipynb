{
 "cells": [
  {
   "cell_type": "markdown",
   "metadata": {},
   "source": [
    "# Scraping pictures for Culture Pic"
   ]
  },
  {
   "cell_type": "code",
   "execution_count": 1,
   "metadata": {},
   "outputs": [],
   "source": [
    "import os\n",
    "import urllib.request\n",
    "import time\n",
    "from selenium import webdriver\n",
    "import matplotlib.pyplot as plt"
   ]
  },
  {
   "cell_type": "markdown",
   "metadata": {},
   "source": [
    "Name of the monument to scrape"
   ]
  },
  {
   "cell_type": "code",
   "execution_count": 149,
   "metadata": {},
   "outputs": [],
   "source": [
    "monument_name = \"pyramide_louvre\""
   ]
  },
  {
   "cell_type": "code",
   "execution_count": 150,
   "metadata": {},
   "outputs": [],
   "source": [
    "browser = webdriver.Chrome('C:\\\\Users\\\\Victor\\\\chromedriver_win32\\\\chromedriver.exe')"
   ]
  },
  {
   "cell_type": "markdown",
   "metadata": {},
   "source": [
    "list of urls"
   ]
  },
  {
   "cell_type": "code",
   "execution_count": 151,
   "metadata": {},
   "outputs": [],
   "source": [
    "#google image\n",
    "url_tour_eiffel = 'https://www.google.com/search?tbm=isch&source=hp&biw=1280&bih=648&ei=xrQ5XKOpDYjBlwS_qJbYDA&q=tour+eiffel&oq=tour+eiffel&gs_l=img.3..0l10.1867.3390..5670...0.0..0.127.770.9j2......1....1..gws-wiz-img.....0.sdXxxVOzca8'\n",
    "url_notre_dame = 'https://www.google.com/search?biw=860&bih=648&tbm=isch&sa=1&ei=ksM5XLugHoq_lwTvo4LoCw&q=notre+dame+de+paris&oq=notre+dame+de+paris&gs_l=img.3..0l10.504297.505663..506084...1.0..0.73.305.5......1....1..gws-wiz-img.......0i7i30j0i10i24.p4Y9bPqsqA8'\n",
    "url_sacre_coeur = 'https://www.google.com/search?q=basilique+sacre+coeur&tbm=isch&source=lnt&tbs=itp:photo&sa=X&ved=0ahUKEwjHo_usrOjfAhVD0RoKHckVCH0QpwUIIQ&biw=1280&bih=648&dpr=1.5'\n",
    "url_pyramide_louvre = 'https://www.google.com/search?biw=1280&bih=648&tbs=itp%3Aphoto&tbm=isch&sa=1&ei=duw5XKu0BsjQab_sjYAI&q=pyramide+du+louvre&oq=pyramide+d&gs_l=img.3.1.0l10.5921.7058..8270...0.0..0.188.1199.0j10......1....1..gws-wiz-img.......0i67.EcNMtJzfwRs'\n",
    "url_hotel_de_ville = 'https://www.google.com/search?biw=1280&bih=648&tbs=itp%3Aphoto&tbm=isch&sa=1&ei=gew5XOynApqAur4P_LSJUA&q=hotel+de+ville+paris&oq=hotel+de+ville+&gs_l=img.3.0.0l10.61950.63283..64360...0.0..0.180.1956.4j11......1....1..gws-wiz-img.......0i67.t_VGwhMJHM8'\n",
    "\n",
    "#shutterstock\n",
    "url_tour_eiffel = 'https://www.shutterstock.com/search?searchterm=tour+eiffel&search_source=base_search_form&language=en&page=1&sort=popular&image_type=photo&measurement=px&safe=true'\n",
    "url_notre_dame = 'https://www.shutterstock.com/search?searchterm=notre+dame+paris&search_source=base_search_form&language=en&page=1&sort=popular&image_type=photo&measurement=px&safe=true'\n",
    "url_hotel_de_ville = 'https://www.shutterstock.com/search?searchterm=hotel+de+ville+paris&search_source=base_search_form&language=en&page=1&sort=popular&image_type=photo&measurement=px&safe=true'\n",
    "url_sacre_coeur = 'https://www.shutterstock.com/search?searchterm=basilique+sacr%C3%A9+coeur&search_source=base_search_form&language=en&page=1&sort=popular&image_type=photo&measurement=px&safe=true'\n",
    "url_pyramide_louvre = 'https://www.shutterstock.com/search?searchterm=pyramide+louvre&search_source=base_search_form&language=en&page=1&sort=popular&image_type=photo&measurement=px&safe=true'\n",
    "\n",
    "url_monument = url_pyramide_louvre"
   ]
  },
  {
   "cell_type": "markdown",
   "metadata": {},
   "source": [
    "## Functions"
   ]
  },
  {
   "cell_type": "markdown",
   "metadata": {},
   "source": [
    "Function to clean the urls"
   ]
  },
  {
   "cell_type": "code",
   "execution_count": 138,
   "metadata": {},
   "outputs": [],
   "source": [
    "def clean_urls(images):\n",
    "    url = []\n",
    "    for i, img in enumerate(images):\n",
    "        url.append(img.get_attribute('src'))\n",
    "    clean_url = []\n",
    "    for el in url:\n",
    "        if(el!=None):\n",
    "            clean_url.append(el)\n",
    "    return (clean_url)"
   ]
  },
  {
   "cell_type": "markdown",
   "metadata": {},
   "source": [
    "Function to download the data into the right folder <br> \n",
    "=> name of the form <i>monument_i.png</i>"
   ]
  },
  {
   "cell_type": "code",
   "execution_count": 139,
   "metadata": {},
   "outputs": [],
   "source": [
    "def save_pictures(monument_name, clean_url):\n",
    "    if not os.path.exists(monument_name):\n",
    "        os.makedirs(monument_name)\n",
    "    os.chdir(monument_name)\n",
    "    len_dir = len(os.listdir())\n",
    "    for i, el in enumerate(clean_url):\n",
    "        index = i + len_dir\n",
    "        urllib.request.urlretrieve(el, monument_name+\"_\"+str(index)+\".png\")\n",
    "    os.chdir('..')"
   ]
  },
  {
   "cell_type": "markdown",
   "metadata": {},
   "source": [
    "## Google Image\n",
    "Get the data"
   ]
  },
  {
   "cell_type": "code",
   "execution_count": 28,
   "metadata": {},
   "outputs": [],
   "source": [
    "browser.get(url_monument)\n",
    "\n",
    "#scrolling for 2 pages\n",
    "for i in range(2):\n",
    "    time.sleep(1)\n",
    "    browser.execute_script(\"window.scrollTo(0, document.body.scrollHeight);\")\n",
    "time.sleep(2)\n",
    "\n",
    "search = browser.find_element_by_id('search')\n",
    "images = search.find_elements_by_tag_name('img')\n",
    "\n",
    "clean_url = clean_urls(images)\n",
    "browser.close()\n",
    "save_pictures(monument_name, clean_url)"
   ]
  },
  {
   "cell_type": "markdown",
   "metadata": {},
   "source": [
    "## Shutterstock"
   ]
  },
  {
   "cell_type": "code",
   "execution_count": 152,
   "metadata": {},
   "outputs": [],
   "source": [
    "browser.get(url_monument)\n",
    "search = browser.find_element_by_css_selector('div.body-content')\n",
    "images = search.find_elements_by_tag_name('img')\n",
    "clean_url = clean_urls(images)\n",
    "browser.close()\n",
    "save_pictures(monument_name, clean_url)"
   ]
  },
  {
   "cell_type": "markdown",
   "metadata": {},
   "source": [
    "## Rename pictures in a folder\n",
    "The goal is to get continuous number after having deleted by hand some pictures"
   ]
  },
  {
   "cell_type": "code",
   "execution_count": 154,
   "metadata": {},
   "outputs": [],
   "source": [
    "monuments = os.listdir()\n",
    "\n",
    "for monument in monuments:\n",
    "    os.chdir(monument)\n",
    "    for i, img in enumerate(sorted(os.listdir(), key=lambda x: int(x.split(monument+'_')[-1].split('.')[0]))):\n",
    "        os.rename(img, monument+\"_\"+str(i)+\".png\")\n",
    "    os.chdir('..')"
   ]
  },
  {
   "cell_type": "code",
   "execution_count": null,
   "metadata": {},
   "outputs": [],
   "source": []
  }
 ],
 "metadata": {
  "kernelspec": {
   "display_name": "Python 3",
   "language": "python",
   "name": "python3"
  },
  "language_info": {
   "codemirror_mode": {
    "name": "ipython",
    "version": 3
   },
   "file_extension": ".py",
   "mimetype": "text/x-python",
   "name": "python",
   "nbconvert_exporter": "python",
   "pygments_lexer": "ipython3",
   "version": "3.7.0"
  }
 },
 "nbformat": 4,
 "nbformat_minor": 2
}
